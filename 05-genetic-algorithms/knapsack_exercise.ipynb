{
  "nbformat": 4,
  "nbformat_minor": 0,
  "metadata": {
    "colab": {
      "name": "knapsack_exercise.ipynb",
      "provenance": [],
      "collapsed_sections": []
    },
    "kernelspec": {
      "name": "python3",
      "display_name": "Python 3"
    }
  },
  "cells": [
    {
      "cell_type": "markdown",
      "metadata": {
        "id": "SuKq-18Je7lI"
      },
      "source": [
        "# Knapsack\n",
        "\n",
        "- Fabio Mejia\n",
        "- Juan Manuel Lopez \n",
        "- Johan Cortes\n",
        "\n",
        "The knapsack problem is a popular computer science problem. Part of the reason for it's popularity is it's combination of simple rules but difficult solution, as it has no solution in polynomial time. This problem is therefore an NP-complete problem, which means no correct solution exists that is also fast (polynomial time).\n",
        "\n",
        "The game consists of the following:\n",
        "- A knapsack (backpack) with a maximum capacity W\n",
        "- N distinct items with a wegiht (Wi) and value (Vi)\n",
        "\n",
        "Which of these items can you fit in the bag that maximises value (sum of items Vi) but does not exceed the maximum capacity W?\n",
        "\n",
        "![img](https://upload.wikimedia.org/wikipedia/commons/f/fd/Knapsack.svg)\n",
        "\n",
        "As an example, say you have items (Vi, Wi) and a knapsack with capacity of 15:\n",
        "1. (4 \\$, 12 kg)\n",
        "2. (2 \\$, 2 kg)\n",
        "3. (2 \\$, 1 kg)\n",
        "4. (1 \\$, 1 kg)\n",
        "5. (10 \\$, 4 kg)\n",
        "\n",
        "Which combination of these achieves the best result? In this case, the answer is items 2-5, which add up to 15$ in value and 8kg in weight.\n",
        "\n",
        "There is another variation of this problem, what if we could pick any amount of each item? In this case, we would add three of 5 and three of 3, which add up to 36$ with weight 15kg.\n",
        "\n",
        "Your task is to write a genetic algorithm that computes the solution to the knapsack problem."
      ]
    },
    {
      "cell_type": "code",
      "metadata": {
        "id": "C9zy7neFk3QX"
      },
      "source": [
        "import random\n",
        "import copy\n",
        "import numpy as np\n",
        "\n",
        "backpack_threshold = 15\n",
        "\n",
        "class Item:\n",
        "  def __init__(self, value, weight, quantity):\n",
        "    self.weight = weight\n",
        "    self.value = value\n",
        "    self.quantity = quantity\n",
        "  \n",
        "  def __str__(self):\n",
        "    return \"%s, %s, %s\" % (self.value, self.weight, self.quantity)\n",
        "\n",
        "  def __repr__(self):\n",
        "    return \"item: %s, %s, %s\" % (self.value, self.weight, self.quantity)"
      ],
      "execution_count": 16,
      "outputs": []
    },
    {
      "cell_type": "code",
      "metadata": {
        "id": "aG_kdLuqhEjK"
      },
      "source": [
        "# Resive una lista de items para definirles un valor de fitness \n",
        "# si el peso de los items en la maleta sobrepasa la capcidad el fitness es -1\n",
        "def evaluate(items):\n",
        "  sum_w = 0\n",
        "  sum_v = 0\n",
        "\n",
        "  for item in items:\n",
        "    sum_w += item.weight*item.quantity\n",
        "    sum_v += item.value*item.quantity\n",
        "  \n",
        "  if sum_w > backpack_threshold:\n",
        "    return -1\n",
        "\n",
        "  return sum_v\n"
      ],
      "execution_count": 17,
      "outputs": []
    },
    {
      "cell_type": "code",
      "metadata": {
        "id": "9i08_IHoiZhr",
        "outputId": "3b51a24a-5f3e-43b3-a21b-7f22a4a5ec6c",
        "colab": {
          "base_uri": "https://localhost:8080/"
        }
      },
      "source": [
        "# Resive una generacion y  crea una tupla de una lista de items y su puntuacion de fitness\n",
        "# \n",
        "def evaluate_many(generation):\n",
        "  return [ (individual, evaluate(individual)) for individual in generation ]\n",
        "\n",
        "evaluate_many([[Item(4, 12, 1), Item(2, 2, 0)], [Item(4, 12, 0), Item(2, 2, 1)], [Item(4, 12, 1), Item(2, 2, 1)]])"
      ],
      "execution_count": 18,
      "outputs": [
        {
          "output_type": "execute_result",
          "data": {
            "text/plain": [
              "[([item: 4, 12, 1, item: 2, 2, 0], 4),\n",
              " ([item: 4, 12, 0, item: 2, 2, 1], 2),\n",
              " ([item: 4, 12, 1, item: 2, 2, 1], 6)]"
            ]
          },
          "metadata": {
            "tags": []
          },
          "execution_count": 18
        }
      ]
    },
    {
      "cell_type": "code",
      "metadata": {
        "id": "nwUVJuomi2Ze",
        "outputId": "76ded29f-e6e9-44c6-9a8f-a746b48375fc",
        "colab": {
          "base_uri": "https://localhost:8080/"
        }
      },
      "source": [
        "# Resive lista tuplas con lista de items y su puntuacion de fitness\n",
        "# Ordena a lista segun el puntaje de cada tupla y saca n cantidades del tope \n",
        "def selection(evaluated_generation, top_n):\n",
        "  evaluated_generation.sort(key = lambda e: e[1], reverse = True)\n",
        "  return evaluated_generation[0:top_n]\n",
        "\n",
        "selection([\n",
        "  ([Item(4, 12, 0), Item(2, 2, 0)], 0),\n",
        "  ([Item(4, 12, 1), Item(2, 2, 0)], 4),\n",
        "  ([Item(4, 12, 0), Item(2, 2, 1)], 2)\n",
        "], 2)"
      ],
      "execution_count": 19,
      "outputs": [
        {
          "output_type": "execute_result",
          "data": {
            "text/plain": [
              "[([item: 4, 12, 1, item: 2, 2, 0], 4), ([item: 4, 12, 0, item: 2, 2, 1], 2)]"
            ]
          },
          "metadata": {
            "tags": []
          },
          "execution_count": 19
        }
      ]
    },
    {
      "cell_type": "code",
      "metadata": {
        "id": "keLOn8r48ZGV"
      },
      "source": [
        "# Resive una  lista de items  y un n de mutaciones que dice la variacion que se aplica a un item\n",
        "# devuelve una lista de items que mutados\n",
        "def mutate(offsprings, n_mutations):\n",
        "  new_offsprings = []\n",
        "  for offspring in offsprings:\n",
        "    delta = random.randint(-n_mutations, n_mutations)\n",
        "    new_offsprings.append(Item(offspring.value, offspring.weight, max(0, offspring.quantity+delta)))\n",
        "  \n",
        "  return new_offsprings"
      ],
      "execution_count": 20,
      "outputs": []
    },
    {
      "cell_type": "code",
      "metadata": {
        "id": "Kde9LkmYmR0J",
        "outputId": "0f981d87-e9bc-4dcd-ad8b-322cce61b617",
        "colab": {
          "base_uri": "https://localhost:8080/"
        }
      },
      "source": [
        "# Resive una lista de los mejores casos, la cantidad de la nueva generacion mutada y la cantidad de genes a mutar\n",
        "# Devuelve una generacion mutada\n",
        "def mutate_many(best_individuals, generation_size, n_genes):\n",
        "  new_generation = []\n",
        "\n",
        "  for i in range(generation_size):\n",
        "    new_individual = mutate(random.choice(best_individuals), n_genes)\n",
        "    new_generation.append(new_individual)\n",
        "\n",
        "  return new_generation\n",
        "\n",
        "mutate_many([[Item(4, 12, 0), Item(2, 2, 0)], [Item(4, 12, 0), Item(2, 2, 0)]], 10, 1)"
      ],
      "execution_count": 21,
      "outputs": [
        {
          "output_type": "execute_result",
          "data": {
            "text/plain": [
              "[[item: 4, 12, 0, item: 2, 2, 0],\n",
              " [item: 4, 12, 0, item: 2, 2, 0],\n",
              " [item: 4, 12, 0, item: 2, 2, 0],\n",
              " [item: 4, 12, 0, item: 2, 2, 1],\n",
              " [item: 4, 12, 1, item: 2, 2, 0],\n",
              " [item: 4, 12, 0, item: 2, 2, 0],\n",
              " [item: 4, 12, 1, item: 2, 2, 0],\n",
              " [item: 4, 12, 0, item: 2, 2, 0],\n",
              " [item: 4, 12, 0, item: 2, 2, 1],\n",
              " [item: 4, 12, 0, item: 2, 2, 1]]"
            ]
          },
          "metadata": {
            "tags": []
          },
          "execution_count": 21
        }
      ]
    },
    {
      "cell_type": "code",
      "metadata": {
        "id": "gY9ki8U28Fdz",
        "outputId": "04129137-9720-46b7-9c28-8f6d2aad76ed",
        "colab": {
          "base_uri": "https://localhost:8080/"
        }
      },
      "source": [
        "MAX_GENERATIONS = 20\n",
        "TOP_N = 4\n",
        "MUTATED_CHROMOSOMES = 1\n",
        "GENERATION_SIZE = 30\n",
        "FITNESS_THRESHOLD = 50\n",
        "MAXIMUM_WEIGHT = 15\n",
        "ITEMS = [Item(4, 12, 0), Item(2, 2, 0), Item(2, 1, 0), Item(1, 1, 0), Item(10, 4, 0)]\n",
        "\n",
        "n_generation = 0\n",
        "converged = False\n",
        "\n",
        "generation = [[copy.deepcopy(item) for item in ITEMS] for _ in range(GENERATION_SIZE)]\n",
        "\n",
        "for i in range(GENERATION_SIZE):\n",
        "  for j in range(len(generation[i])):\n",
        "    c = random.randint(0,1)\n",
        "    generation[i][j].quantity = c\n",
        "\n",
        "weights = np.array([item.weight for item in ITEMS])\n",
        "values = np.array([item.value for item in ITEMS])\n",
        "\n",
        "\n",
        "\n",
        "while n_generation < MAX_GENERATIONS and not converged:\n",
        "  evaluated_generation = evaluate_many(generation)\n",
        "  evaluated_best = selection(evaluated_generation, TOP_N)\n",
        "  # print(evaluated_best)\n",
        "  parents = [item for item,fitness in evaluated_best]\n",
        "  \n",
        "  best_individuals = [ individual for individual, evaluation in evaluated_best ]\n",
        "  best_individuals = best_individuals[:GENERATION_SIZE]\n",
        "\n",
        "  generation = generation + mutate_many(best_individuals, GENERATION_SIZE, MUTATED_CHROMOSOMES)\n",
        "  \n",
        "  best_in_generation = evaluated_best[0]\n",
        "  converged = best_in_generation[1] >= FITNESS_THRESHOLD\n",
        "  n_generation += 1\n",
        "\n",
        "  \n",
        "  print(f\"{n_generation}: {best_in_generation}\")"
      ],
      "execution_count": 22,
      "outputs": [
        {
          "output_type": "stream",
          "text": [
            "1: ([item: 4, 12, 0, item: 2, 2, 1, item: 2, 1, 1, item: 1, 1, 0, item: 10, 4, 1], 14)\n",
            "2: ([item: 4, 12, 0, item: 2, 2, 0, item: 2, 1, 2, item: 1, 1, 0, item: 10, 4, 2], 24)\n",
            "3: ([item: 4, 12, 0, item: 2, 2, 0, item: 2, 1, 2, item: 1, 1, 0, item: 10, 4, 3], 34)\n",
            "4: ([item: 4, 12, 0, item: 2, 2, 0, item: 2, 1, 2, item: 1, 1, 0, item: 10, 4, 3], 34)\n",
            "5: ([item: 4, 12, 0, item: 2, 2, 0, item: 2, 1, 3, item: 1, 1, 0, item: 10, 4, 3], 36)\n",
            "6: ([item: 4, 12, 0, item: 2, 2, 0, item: 2, 1, 3, item: 1, 1, 0, item: 10, 4, 3], 36)\n",
            "7: ([item: 4, 12, 0, item: 2, 2, 0, item: 2, 1, 3, item: 1, 1, 0, item: 10, 4, 3], 36)\n",
            "8: ([item: 4, 12, 0, item: 2, 2, 0, item: 2, 1, 3, item: 1, 1, 0, item: 10, 4, 3], 36)\n",
            "9: ([item: 4, 12, 0, item: 2, 2, 0, item: 2, 1, 3, item: 1, 1, 0, item: 10, 4, 3], 36)\n",
            "10: ([item: 4, 12, 0, item: 2, 2, 0, item: 2, 1, 3, item: 1, 1, 0, item: 10, 4, 3], 36)\n",
            "11: ([item: 4, 12, 0, item: 2, 2, 0, item: 2, 1, 3, item: 1, 1, 0, item: 10, 4, 3], 36)\n",
            "12: ([item: 4, 12, 0, item: 2, 2, 0, item: 2, 1, 3, item: 1, 1, 0, item: 10, 4, 3], 36)\n",
            "13: ([item: 4, 12, 0, item: 2, 2, 0, item: 2, 1, 3, item: 1, 1, 0, item: 10, 4, 3], 36)\n",
            "14: ([item: 4, 12, 0, item: 2, 2, 0, item: 2, 1, 3, item: 1, 1, 0, item: 10, 4, 3], 36)\n",
            "15: ([item: 4, 12, 0, item: 2, 2, 0, item: 2, 1, 3, item: 1, 1, 0, item: 10, 4, 3], 36)\n",
            "16: ([item: 4, 12, 0, item: 2, 2, 0, item: 2, 1, 3, item: 1, 1, 0, item: 10, 4, 3], 36)\n",
            "17: ([item: 4, 12, 0, item: 2, 2, 0, item: 2, 1, 3, item: 1, 1, 0, item: 10, 4, 3], 36)\n",
            "18: ([item: 4, 12, 0, item: 2, 2, 0, item: 2, 1, 3, item: 1, 1, 0, item: 10, 4, 3], 36)\n",
            "19: ([item: 4, 12, 0, item: 2, 2, 0, item: 2, 1, 3, item: 1, 1, 0, item: 10, 4, 3], 36)\n",
            "20: ([item: 4, 12, 0, item: 2, 2, 0, item: 2, 1, 3, item: 1, 1, 0, item: 10, 4, 3], 36)\n"
          ],
          "name": "stdout"
        }
      ]
    }
  ]
}